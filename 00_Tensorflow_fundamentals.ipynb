{
  "cells": [
    {
      "cell_type": "markdown",
      "metadata": {
        "id": "view-in-github",
        "colab_type": "text"
      },
      "source": [
        "<a href=\"https://colab.research.google.com/github/varunk04/Deep_learning_with_Tensorflow/blob/main/00_Tensorflow_fundamentals.ipynb\" target=\"_parent\"><img src=\"https://colab.research.google.com/assets/colab-badge.svg\" alt=\"Open In Colab\"/></a>"
      ]
    },
    {
      "cell_type": "markdown",
      "metadata": {
        "id": "115po3sTc60c"
      },
      "source": [
        "## Introduction to Tensors:"
      ]
    },
    {
      "cell_type": "code",
      "execution_count": null,
      "metadata": {
        "id": "HBJIBelJNueZ"
      },
      "outputs": [],
      "source": [
        "# Import tensorflow:\n",
        "import tensorflow as tf\n",
        "print(tf.__version__)"
      ]
    },
    {
      "cell_type": "code",
      "execution_count": null,
      "metadata": {
        "id": "7VDtChOSN7jb"
      },
      "outputs": [],
      "source": [
        "# Creating tensors with tf.constant()\n",
        "scalar = tf.constant(79)\n",
        "scalar"
      ]
    },
    {
      "cell_type": "code",
      "execution_count": null,
      "metadata": {
        "id": "OYhEdSVNOSjb"
      },
      "outputs": [],
      "source": [
        "# check the number of dimensions of a tensor:\n",
        "\n",
        "scalar.ndim"
      ]
    },
    {
      "cell_type": "code",
      "execution_count": null,
      "metadata": {
        "id": "gY57P-RhOtYL"
      },
      "outputs": [],
      "source": [
        "# Create a vector:\n",
        "\n",
        "vector = tf.constant([79,79])\n",
        "vector"
      ]
    },
    {
      "cell_type": "code",
      "execution_count": null,
      "metadata": {
        "id": "-sFkY1EnO0wE"
      },
      "outputs": [],
      "source": [
        "# check the dimension of vector:\n",
        "vector.ndim"
      ]
    },
    {
      "cell_type": "code",
      "execution_count": null,
      "metadata": {
        "id": "_Qp0oYLEPA6V"
      },
      "outputs": [],
      "source": [
        "# Create a matrix;\n",
        "\n",
        "matrix = tf.constant([\n",
        "    [79,79],\n",
        "    [79,79]\n",
        "])\n",
        "matrix"
      ]
    },
    {
      "cell_type": "code",
      "execution_count": null,
      "metadata": {
        "id": "Uwl4AN_oPTGU"
      },
      "outputs": [],
      "source": [
        "matrix.ndim"
      ]
    },
    {
      "cell_type": "code",
      "execution_count": null,
      "metadata": {
        "id": "kxfjGbokPaX7"
      },
      "outputs": [],
      "source": [
        "# Create another matix:\n",
        "\n",
        "An_matrix = tf.constant([\n",
        "    [79.0,79.0],\n",
        "    [79.0,79.0],\n",
        "    [79.0,79.0]\n",
        "],dtype=tf.float16)\n",
        "\n",
        "An_matrix"
      ]
    },
    {
      "cell_type": "code",
      "execution_count": null,
      "metadata": {
        "id": "FE-QUCOyQAWU"
      },
      "outputs": [],
      "source": [
        "An_matrix.ndim"
      ]
    },
    {
      "cell_type": "code",
      "execution_count": null,
      "metadata": {
        "id": "3n6jiufSQXWz"
      },
      "outputs": [],
      "source": [
        "# Creating a tensor:\n",
        "\n",
        "tensor = tf.constant([\n",
        "    [\n",
        "        [79,79,79],\n",
        "        [79,79,79]\n",
        "    ],\n",
        "    [\n",
        "        [4,4,4],\n",
        "        [4,4,4,]  \n",
        "    ],\n",
        "    [\n",
        "        [10,10,10],\n",
        "        [10,10,10]\n",
        "    ]\n",
        "])\n",
        "\n",
        "tensor"
      ]
    },
    {
      "cell_type": "code",
      "execution_count": null,
      "metadata": {
        "id": "xFXebSh5RNXF"
      },
      "outputs": [],
      "source": [
        "tensor.ndim"
      ]
    },
    {
      "cell_type": "markdown",
      "metadata": {
        "id": "89RcTdxERWhE"
      },
      "source": [
        "* Scalar is a single number\n",
        "* Vector is a number with direction\n",
        "* matrix is a 2-dimensional array of numbers\n",
        "* Tensor is a collection of matrix(Which means it is a multidimensional array"
      ]
    },
    {
      "cell_type": "markdown",
      "metadata": {
        "id": "C1sI6qU8R8V9"
      },
      "source": [
        "**TENSOR** dimensions can be interprested as follows:\n",
        "tesnor.ndim = (M,R,C)\n",
        "M is number of matrices\n",
        "R is number of rows in the matrix\n",
        "c is number of columns in the matrix\n",
        "\n",
        "Foe example:\n",
        "(3,2,2) diemension vector tells that there are total of 3, 2*2 dimesion matrices in the tensor. "
      ]
    },
    {
      "cell_type": "markdown",
      "metadata": {
        "id": "BOH5XXgeSg9R"
      },
      "source": [
        "### Creating tensor with 'tf.variable'"
      ]
    },
    {
      "cell_type": "code",
      "execution_count": null,
      "metadata": {
        "id": "zjeZWKPgTCEq"
      },
      "outputs": [],
      "source": [
        "# Creating same tensor with tf.variable:\n",
        "\n",
        "changeable_tensor = tf.Variable([1,2])\n",
        "unchangeable_tensor = tf.constant([1,2])\n",
        "\n",
        "changeable_tensor,unchangeable_tensor"
      ]
    },
    {
      "cell_type": "code",
      "execution_count": null,
      "metadata": {
        "colab": {
          "background_save": true
        },
        "id": "BMdGIs7nThqx",
        "outputId": "faed8416-2aee-471d-9c25-854d4436c978"
      },
      "outputs": [
        {
          "ename": "TypeError",
          "evalue": "ignored",
          "output_type": "error",
          "traceback": [
            "\u001b[0;31m---------------------------------------------------------------------------\u001b[0m",
            "\u001b[0;31mTypeError\u001b[0m                                 Traceback (most recent call last)",
            "\u001b[0;32m<ipython-input-14-c85f4207f57a>\u001b[0m in \u001b[0;36m<cell line: 1>\u001b[0;34m()\u001b[0m\n\u001b[0;32m----> 1\u001b[0;31m \u001b[0mchangeable_tensor\u001b[0m\u001b[0;34m[\u001b[0m\u001b[0;36m0\u001b[0m\u001b[0;34m]\u001b[0m \u001b[0;34m=\u001b[0m \u001b[0;36m4\u001b[0m\u001b[0;34m\u001b[0m\u001b[0;34m\u001b[0m\u001b[0m\n\u001b[0m\u001b[1;32m      2\u001b[0m \u001b[0mchangeable_tensor\u001b[0m\u001b[0;34m\u001b[0m\u001b[0;34m\u001b[0m\u001b[0m\n",
            "\u001b[0;31mTypeError\u001b[0m: 'ResourceVariable' object does not support item assignment"
          ]
        }
      ],
      "source": [
        "changeable_tensor[0] = 4\n",
        "changeable_tensor"
      ]
    },
    {
      "cell_type": "code",
      "execution_count": null,
      "metadata": {
        "colab": {
          "background_save": true
        },
        "id": "qMXGrXi7TzDi",
        "outputId": "918c7c38-67c6-4dc4-8127-92a9ce43143b"
      },
      "outputs": [
        {
          "data": {
            "text/plain": [
              "<tf.Variable 'Variable:0' shape=(2,) dtype=int32, numpy=array([7, 2], dtype=int32)>"
            ]
          },
          "execution_count": 15,
          "metadata": {},
          "output_type": "execute_result"
        }
      ],
      "source": [
        "changeable_tensor[0].assign(7)\n",
        "changeable_tensor"
      ]
    },
    {
      "cell_type": "code",
      "execution_count": null,
      "metadata": {
        "colab": {
          "background_save": true
        },
        "id": "aK6dH2NrT-n5",
        "outputId": "85a01881-b091-42ce-d2c1-3d04160aa566"
      },
      "outputs": [
        {
          "ename": "AttributeError",
          "evalue": "ignored",
          "output_type": "error",
          "traceback": [
            "\u001b[0;31m---------------------------------------------------------------------------\u001b[0m",
            "\u001b[0;31mAttributeError\u001b[0m                            Traceback (most recent call last)",
            "\u001b[0;32m<ipython-input-18-958e786d8d1f>\u001b[0m in \u001b[0;36m<cell line: 1>\u001b[0;34m()\u001b[0m\n\u001b[0;32m----> 1\u001b[0;31m \u001b[0munchangeable_tensor\u001b[0m\u001b[0;34m[\u001b[0m\u001b[0;36m0\u001b[0m\u001b[0;34m]\u001b[0m\u001b[0;34m.\u001b[0m\u001b[0massign\u001b[0m\u001b[0;34m(\u001b[0m\u001b[0;36m7\u001b[0m\u001b[0;34m)\u001b[0m\u001b[0;34m\u001b[0m\u001b[0;34m\u001b[0m\u001b[0m\n\u001b[0m\u001b[1;32m      2\u001b[0m \u001b[0munchangeable_tensor\u001b[0m\u001b[0;34m\u001b[0m\u001b[0;34m\u001b[0m\u001b[0m\n",
            "\u001b[0;32m/usr/local/lib/python3.9/dist-packages/tensorflow/python/framework/ops.py\u001b[0m in \u001b[0;36m__getattr__\u001b[0;34m(self, name)\u001b[0m\n\u001b[1;32m    441\u001b[0m         \u001b[0mnp_config\u001b[0m\u001b[0;34m.\u001b[0m\u001b[0menable_numpy_behavior\u001b[0m\u001b[0;34m(\u001b[0m\u001b[0;34m)\u001b[0m\u001b[0;34m\u001b[0m\u001b[0;34m\u001b[0m\u001b[0m\n\u001b[1;32m    442\u001b[0m       \"\"\")\n\u001b[0;32m--> 443\u001b[0;31m     \u001b[0mself\u001b[0m\u001b[0;34m.\u001b[0m\u001b[0m__getattribute__\u001b[0m\u001b[0;34m(\u001b[0m\u001b[0mname\u001b[0m\u001b[0;34m)\u001b[0m\u001b[0;34m\u001b[0m\u001b[0;34m\u001b[0m\u001b[0m\n\u001b[0m\u001b[1;32m    444\u001b[0m \u001b[0;34m\u001b[0m\u001b[0m\n\u001b[1;32m    445\u001b[0m   \u001b[0;34m@\u001b[0m\u001b[0mstaticmethod\u001b[0m\u001b[0;34m\u001b[0m\u001b[0;34m\u001b[0m\u001b[0m\n",
            "\u001b[0;31mAttributeError\u001b[0m: 'tensorflow.python.framework.ops.EagerTensor' object has no attribute 'assign'"
          ]
        }
      ],
      "source": [
        "unchangeable_tensor[0].assign(7)\n",
        "unchangeable_tensor"
      ]
    },
    {
      "cell_type": "markdown",
      "metadata": {
        "id": "Z-k0_y8oUKyy"
      },
      "source": [
        "In tensorflow we can create two type of tensors:\n",
        "\n",
        "1. unchangeable type by usinmf tf.constant()\n",
        "2. changeable tensor by using tf.Variable ()"
      ]
    },
    {
      "cell_type": "markdown",
      "metadata": {
        "id": "XeJYgdJJU1Rq"
      },
      "source": [
        "### Creating random tensors:\n",
        "\n",
        "Random tensor are the tensors made from  a arbritary random numbers"
      ]
    },
    {
      "cell_type": "code",
      "execution_count": null,
      "metadata": {
        "colab": {
          "background_save": true
        },
        "id": "3Ont1iSzU8HJ"
      },
      "outputs": [],
      "source": [
        "# Creating a random tensor:\n",
        "random1 = tf.random.Generator.from_seed(42)\n",
        "random1 = random1.normal(shape = (3,3))\n",
        "\n",
        "random2 = tf.random.Generator.from_seed(42)\n",
        "random2 = random2.normal(shape = (3,3,3))\n",
        "random1,random2"
      ]
    },
    {
      "cell_type": "markdown",
      "metadata": {
        "id": "9zsCGCdMWvQJ"
      },
      "source": [
        "### Shuffle the order of elements in tensor:"
      ]
    },
    {
      "cell_type": "code",
      "execution_count": null,
      "metadata": {
        "colab": {
          "background_save": true
        },
        "id": "t4Gn42XNYtPI"
      },
      "outputs": [],
      "source": [
        "# Shuffling a tensor (usefull when we want to shuffle the data)\n",
        "\n",
        "not_shuffled = tf.constant([[1,2],\n",
        "                            [3,4],\n",
        "                            [5,6],\n",
        "                            [7,8]])\n",
        "not_shuffled"
      ]
    },
    {
      "cell_type": "code",
      "execution_count": null,
      "metadata": {
        "colab": {
          "background_save": true
        },
        "id": "gTJsLs7LZiMU"
      },
      "outputs": [],
      "source": [
        "tf.random.shuffle(not_shuffled)\n",
        "\n",
        "# Everytime you run this function it will shuffle the tensor."
      ]
    },
    {
      "cell_type": "code",
      "execution_count": null,
      "metadata": {
        "colab": {
          "background_save": true
        },
        "id": "yK-tZmK2kvCn"
      },
      "outputs": [],
      "source": [
        "# setting seed will help us reproduce it.\n",
        "\n",
        "tf.random.set_seed(42)\n",
        "tf.random.shuffle(not_shuffled, seed = 42)"
      ]
    },
    {
      "cell_type": "markdown",
      "metadata": {
        "id": "ktO_itlYk2w0"
      },
      "source": [
        "### Other ways to make tensors:\n"
      ]
    },
    {
      "cell_type": "code",
      "execution_count": null,
      "metadata": {
        "colab": {
          "background_save": true
        },
        "id": "1TtukZZuoJ1e"
      },
      "outputs": [],
      "source": [
        "tf.ones([10,7])"
      ]
    },
    {
      "cell_type": "code",
      "execution_count": null,
      "metadata": {
        "colab": {
          "background_save": true
        },
        "id": "uYsBee0eoRI8"
      },
      "outputs": [],
      "source": [
        "tf.zeros(shape=(10,7))"
      ]
    },
    {
      "cell_type": "markdown",
      "metadata": {
        "id": "HP-S43CooXGE"
      },
      "source": [
        "### converting numpy array to tensors:\n",
        "\n",
        "* main purpose of conversion is unliike tensors, numpy arrays cannot run on GPUs."
      ]
    },
    {
      "cell_type": "code",
      "execution_count": null,
      "metadata": {
        "colab": {
          "background_save": true
        },
        "id": "cU8XbHPcoztE"
      },
      "outputs": [],
      "source": [
        "import numpy as np\n",
        "\n",
        "numpy_a = np.arange(1,26, dtype= np.int32).reshape(5,5)\n",
        "numpy_a"
      ]
    },
    {
      "cell_type": "code",
      "execution_count": null,
      "metadata": {
        "colab": {
          "background_save": true
        },
        "id": "n7Oy3UkGpG6u"
      },
      "outputs": [],
      "source": [
        "tensor_a = tf.constant(numpy_a)\n",
        "tensor_a"
      ]
    },
    {
      "cell_type": "code",
      "execution_count": null,
      "metadata": {
        "colab": {
          "background_save": true
        },
        "id": "kZ7D-x53pTln"
      },
      "outputs": [],
      "source": [
        "# We can re shape the numpy array as we wish\n",
        "\n",
        "tensor_a = tf.constant(numpy_a, shape = (1,5,5))\n",
        "tensor_a"
      ]
    },
    {
      "cell_type": "markdown",
      "metadata": {
        "id": "CA0gGM2TprNM"
      },
      "source": [
        "### Getting more information about the tensors:\n",
        "\n",
        "when dealing with tensors, one should be aware of these attributes:\n",
        "\n",
        "* shape\n",
        "* Axis or dimension\n",
        "* Rank\n",
        "* size"
      ]
    },
    {
      "cell_type": "code",
      "execution_count": null,
      "metadata": {
        "colab": {
          "background_save": true
        },
        "id": "pNihMrqLqBTb"
      },
      "outputs": [],
      "source": [
        "# creating a multi rank tensor:\n",
        "\n",
        "tensor = tf.ones(shape= [2,3,4,5,])\n",
        "tensor"
      ]
    },
    {
      "cell_type": "code",
      "execution_count": null,
      "metadata": {
        "colab": {
          "background_save": true
        },
        "id": "V-PXE_i-tl11"
      },
      "outputs": [],
      "source": [
        "# Indexing:\n",
        "tensor[0]"
      ]
    },
    {
      "cell_type": "code",
      "execution_count": null,
      "metadata": {
        "colab": {
          "background_save": true
        },
        "id": "94y2Bl4RuMxr"
      },
      "outputs": [],
      "source": [
        "tensor.shape, tensor.ndim, tf.size(tensor)"
      ]
    },
    {
      "cell_type": "code",
      "execution_count": null,
      "metadata": {
        "colab": {
          "background_save": true
        },
        "id": "np8hUn79ugyq"
      },
      "outputs": [],
      "source": [
        "# Get various attributes of tensor:\n",
        "\n",
        "def get_attributes(input_tensor):\n",
        "  ''' This function takes tensor as input and print the various attributes \n",
        "  of the tensor '''\n",
        "  \n",
        "  print('Datatype of every elements :',input_tensor.dtype)\n",
        "  print('Number of dimensions :', input_tensor.ndim)\n",
        "  print('Shape of the tensor :', input_tensor.shape)\n",
        "  print('Number of elements in the tensor :', tf.size(input_tensor).numpy())\n"
      ]
    },
    {
      "cell_type": "code",
      "execution_count": null,
      "metadata": {
        "colab": {
          "background_save": true
        },
        "id": "_P-lfjoCvbis"
      },
      "outputs": [],
      "source": [
        "get_attributes(tensor)"
      ]
    },
    {
      "cell_type": "markdown",
      "metadata": {
        "id": "SugvPpVZvf6c"
      },
      "source": [
        "### Indexing tensors:"
      ]
    },
    {
      "cell_type": "code",
      "execution_count": null,
      "metadata": {
        "colab": {
          "background_save": true
        },
        "id": "ZRqSEHNBSzlb"
      },
      "outputs": [],
      "source": [
        "tensor"
      ]
    },
    {
      "cell_type": "code",
      "execution_count": null,
      "metadata": {
        "colab": {
          "background_save": true
        },
        "id": "9C7flpgWS9go"
      },
      "outputs": [],
      "source": [
        "tensor[:2,:2,:2,:2]"
      ]
    },
    {
      "cell_type": "code",
      "execution_count": null,
      "metadata": {
        "colab": {
          "background_save": true
        },
        "id": "ImdiVLfNTSPr"
      },
      "outputs": [],
      "source": [
        "# get the first element from each dimension from each index except for the final element:\n",
        "\n",
        "tensor[:1,:1,:,:1]"
      ]
    },
    {
      "cell_type": "code",
      "execution_count": null,
      "metadata": {
        "colab": {
          "background_save": true
        },
        "id": "IMNiEwg8URSc"
      },
      "outputs": [],
      "source": [
        "# Create a rak 2 tensor (2 Dimension)\n",
        "rank2_tensor = tf.constant([\n",
        "    [1,2],\n",
        "    [3,4]\n",
        "])"
      ]
    },
    {
      "cell_type": "code",
      "execution_count": null,
      "metadata": {
        "colab": {
          "background_save": true
        },
        "id": "RMnpcYgSUyqb"
      },
      "outputs": [],
      "source": [
        "get_attributes(rank2_tensor)"
      ]
    },
    {
      "cell_type": "code",
      "execution_count": null,
      "metadata": {
        "colab": {
          "background_save": true
        },
        "id": "03d2SrvZU4HN"
      },
      "outputs": [],
      "source": [
        "# get last item of each row:\n",
        "rank2_tensor[:,-1]"
      ]
    },
    {
      "cell_type": "code",
      "execution_count": null,
      "metadata": {
        "colab": {
          "background_save": true
        },
        "id": "G4JjTQGTVU9S"
      },
      "outputs": [],
      "source": [
        "# Add in extra dimension to rank 2 tensor:\n",
        "\n",
        "rank3_tensor = rank2_tensor[...,tf.newaxis]\n",
        "rank3_tensor"
      ]
    },
    {
      "cell_type": "code",
      "execution_count": null,
      "metadata": {
        "colab": {
          "background_save": true
        },
        "id": "LIueTzu7V2r7"
      },
      "outputs": [],
      "source": [
        "# Alternative to tf.newaxis:\n",
        "\n",
        "tf.expand_dims(rank2_tensor, axis = -1) # expand at the end"
      ]
    },
    {
      "cell_type": "code",
      "execution_count": null,
      "metadata": {
        "colab": {
          "background_save": true
        },
        "id": "gTZRHa7PWcHr"
      },
      "outputs": [],
      "source": [
        "tf.expand_dims(rank2_tensor, axis = 0) # expand at first"
      ]
    },
    {
      "cell_type": "markdown",
      "metadata": {
        "id": "4VLMiK_VWit0"
      },
      "source": [
        "### manipulating tensors (tensor Operations):\n",
        "\n",
        "**Basic Operations**"
      ]
    },
    {
      "cell_type": "code",
      "execution_count": null,
      "metadata": {
        "colab": {
          "background_save": true
        },
        "id": "FPxLC8KSW3OU"
      },
      "outputs": [],
      "source": [
        "# Adding value to tensor:\n",
        "\n",
        "tensor = tf.constant([\n",
        "    [1,2],\n",
        "    [3,4]\n",
        "])\n",
        "\n",
        "tensor + 10"
      ]
    },
    {
      "cell_type": "code",
      "execution_count": null,
      "metadata": {
        "colab": {
          "background_save": true
        },
        "id": "RdRB9wPtXUAk"
      },
      "outputs": [],
      "source": [
        "# Multiplications:\n",
        "tensor * 10"
      ]
    },
    {
      "cell_type": "code",
      "execution_count": null,
      "metadata": {
        "colab": {
          "background_save": true
        },
        "id": "GBg5m2oCXi3O"
      },
      "outputs": [],
      "source": [
        "# Sustraction:\n",
        "\n",
        "tensor - 10"
      ]
    },
    {
      "cell_type": "code",
      "execution_count": null,
      "metadata": {
        "colab": {
          "background_save": true
        },
        "id": "KTVxmlGGXnRq"
      },
      "outputs": [],
      "source": [
        "# We can use the tensprflow built in function too:\n",
        "\n",
        "tf.multiply(tensor , 10)"
      ]
    },
    {
      "cell_type": "markdown",
      "metadata": {
        "id": "ZjAvWDtLX5NM"
      },
      "source": [
        "**Matrix Multiplication :**\n",
        "\n",
        "* It is most common operation done, usual multiplication is carried out element wise.\n",
        "* But there are other ways to multiply the matrices."
      ]
    },
    {
      "cell_type": "code",
      "execution_count": null,
      "metadata": {
        "colab": {
          "background_save": true
        },
        "id": "XecC-_dlYQIj"
      },
      "outputs": [],
      "source": [
        "# Multiplying tensor:\n",
        "print(tensor)\n",
        "tf.matmul(tensor, tensor)"
      ]
    },
    {
      "cell_type": "code",
      "execution_count": null,
      "metadata": {
        "colab": {
          "background_save": true
        },
        "id": "vuJkEPt0cPc3"
      },
      "outputs": [],
      "source": [
        "# There is a short hand for matmul:\n",
        "\n",
        "tensor @ tensor"
      ]
    },
    {
      "cell_type": "markdown",
      "metadata": {
        "id": "lCp4SN-vcjdE"
      },
      "source": [
        "### Changing the datatype of the tensor:"
      ]
    },
    {
      "cell_type": "code",
      "execution_count": null,
      "metadata": {
        "colab": {
          "base_uri": "https://localhost:8080/"
        },
        "id": "L4G_OekJjRL4",
        "outputId": "e8c0ff92-b82d-4354-bf17-46c119e799e6"
      },
      "outputs": [
        {
          "output_type": "execute_result",
          "data": {
            "text/plain": [
              "tf.int32"
            ]
          },
          "metadata": {},
          "execution_count": 51
        }
      ],
      "source": [
        "a = tf.constant([1,2,3])\n",
        "a.dtype"
      ]
    },
    {
      "cell_type": "code",
      "source": [
        "b = tf.constant([1.,2.,3.,4.])\n",
        "b.dtype"
      ],
      "metadata": {
        "colab": {
          "base_uri": "https://localhost:8080/"
        },
        "id": "7FfYnToxrTw8",
        "outputId": "d8ce2ac0-8275-49d3-8262-e7034f1cc192"
      },
      "execution_count": null,
      "outputs": [
        {
          "output_type": "execute_result",
          "data": {
            "text/plain": [
              "tf.float32"
            ]
          },
          "metadata": {},
          "execution_count": 52
        }
      ]
    },
    {
      "cell_type": "code",
      "source": [
        "# Changing the int32 to int16 dtype:\n",
        "\n",
        "c = tf.cast(a, dtype = tf.int16)\n",
        "c.dtype"
      ],
      "metadata": {
        "colab": {
          "base_uri": "https://localhost:8080/"
        },
        "id": "La1YKVkCr5k9",
        "outputId": "ae975471-c309-4ed4-b6a2-8b7390d59570"
      },
      "execution_count": null,
      "outputs": [
        {
          "output_type": "execute_result",
          "data": {
            "text/plain": [
              "tf.int16"
            ]
          },
          "metadata": {},
          "execution_count": 56
        }
      ]
    },
    {
      "cell_type": "code",
      "source": [
        "# Changing the float32 to float16 dtype:\n",
        "\n",
        "d = tf.cast(b, dtype = tf.float16)\n",
        "d.dtype"
      ],
      "metadata": {
        "colab": {
          "base_uri": "https://localhost:8080/"
        },
        "id": "jp4DvTGUrYqa",
        "outputId": "5d9032dd-b49b-4fe3-d741-8b2e11bcbf8e"
      },
      "execution_count": null,
      "outputs": [
        {
          "output_type": "execute_result",
          "data": {
            "text/plain": [
              "tf.float16"
            ]
          },
          "metadata": {},
          "execution_count": 57
        }
      ]
    },
    {
      "cell_type": "markdown",
      "source": [
        "### Aggregating Tensors:\n",
        "\n",
        "Aggregating tensors = condensing the, from multiple values to a smaller values."
      ],
      "metadata": {
        "id": "kBFNtx0FrkOh"
      }
    },
    {
      "cell_type": "code",
      "source": [
        "# getting the absolute value:\n",
        "# Converting negative vlaues to positive.\n",
        "\n",
        "tensor = tf.constant([10,20,-30,-40])\n",
        "tensor"
      ],
      "metadata": {
        "colab": {
          "base_uri": "https://localhost:8080/"
        },
        "id": "VjAkwMWosVqY",
        "outputId": "51613387-57a0-49a3-e571-89498fad24e4"
      },
      "execution_count": null,
      "outputs": [
        {
          "output_type": "execute_result",
          "data": {
            "text/plain": [
              "<tf.Tensor: shape=(4,), dtype=int32, numpy=array([ 10,  20, -30, -40], dtype=int32)>"
            ]
          },
          "metadata": {},
          "execution_count": 60
        }
      ]
    },
    {
      "cell_type": "code",
      "source": [
        "tf.abs(tensor)"
      ],
      "metadata": {
        "colab": {
          "base_uri": "https://localhost:8080/"
        },
        "id": "R7IKNKO9tYIi",
        "outputId": "be2307a3-acbe-4e9e-e353-560b1afc379a"
      },
      "execution_count": null,
      "outputs": [
        {
          "output_type": "execute_result",
          "data": {
            "text/plain": [
              "<tf.Tensor: shape=(4,), dtype=int32, numpy=array([10, 20, 30, 40], dtype=int32)>"
            ]
          },
          "metadata": {},
          "execution_count": 61
        }
      ]
    },
    {
      "cell_type": "markdown",
      "source": [
        "* Get maximum\n",
        "* Get Minimum\n",
        "* Get mean\n",
        "* Get sum"
      ],
      "metadata": {
        "id": "SFlqfz0JtbPS"
      }
    },
    {
      "cell_type": "code",
      "source": [
        "# Creating a random-tensor:\n",
        "\n",
        "rand_tensor = tf.constant(np.random.randint(0,100, size = 50))\n",
        "rand_tensor"
      ],
      "metadata": {
        "colab": {
          "base_uri": "https://localhost:8080/"
        },
        "id": "gEfwgIl5tw3z",
        "outputId": "b903f661-4eb4-4ad6-dc63-9d7555bcfaa4"
      },
      "execution_count": null,
      "outputs": [
        {
          "output_type": "execute_result",
          "data": {
            "text/plain": [
              "<tf.Tensor: shape=(50,), dtype=int64, numpy=\n",
              "array([13, 92, 41, 29, 41, 45, 33, 75, 75, 53, 44, 89, 69, 82, 54, 69, 57,\n",
              "       23, 97, 62, 28, 87, 61, 81, 39, 19, 84,  4,  0, 23, 86, 86, 19, 85,\n",
              "       18, 83,  4, 67, 85, 93, 33, 33, 16,  6, 96,  1,  4, 11, 57, 31])>"
            ]
          },
          "metadata": {},
          "execution_count": 62
        }
      ]
    },
    {
      "cell_type": "code",
      "source": [
        "# getting tensor_ atrributes:\n",
        "\n",
        "get_attributes(rand_tensor)"
      ],
      "metadata": {
        "colab": {
          "base_uri": "https://localhost:8080/"
        },
        "id": "8GM7gLSuuDwq",
        "outputId": "330d3d59-1c90-4033-e763-352bdcfc608e"
      },
      "execution_count": null,
      "outputs": [
        {
          "output_type": "stream",
          "name": "stdout",
          "text": [
            "Datatype of every elements : <dtype: 'int64'>\n",
            "Number of dimensions : 1\n",
            "Shape of the tensor : (50,)\n",
            "Number of elements in the tensor : 50\n"
          ]
        }
      ]
    },
    {
      "cell_type": "code",
      "source": [
        "# Find minimum:\n",
        "\n",
        "tf.reduce_min(rand_tensor)"
      ],
      "metadata": {
        "colab": {
          "base_uri": "https://localhost:8080/"
        },
        "id": "7yq8H_exuMEa",
        "outputId": "167d17b7-db57-453e-befb-cb2a4a3c386a"
      },
      "execution_count": null,
      "outputs": [
        {
          "output_type": "execute_result",
          "data": {
            "text/plain": [
              "<tf.Tensor: shape=(), dtype=int64, numpy=0>"
            ]
          },
          "metadata": {},
          "execution_count": 64
        }
      ]
    },
    {
      "cell_type": "code",
      "source": [
        "# Find Maximum:\n",
        "\n",
        "tf.reduce_max(rand_tensor)"
      ],
      "metadata": {
        "colab": {
          "base_uri": "https://localhost:8080/"
        },
        "id": "4lpG-kDWuUFK",
        "outputId": "1e7b7762-3db0-4e85-db00-b958cb050c9c"
      },
      "execution_count": null,
      "outputs": [
        {
          "output_type": "execute_result",
          "data": {
            "text/plain": [
              "<tf.Tensor: shape=(), dtype=int64, numpy=97>"
            ]
          },
          "metadata": {},
          "execution_count": 65
        }
      ]
    },
    {
      "cell_type": "code",
      "source": [
        "# Finding mean:\n",
        "\n",
        "tf.reduce_mean(rand_tensor)"
      ],
      "metadata": {
        "colab": {
          "base_uri": "https://localhost:8080/"
        },
        "id": "W-R6_uPlucq4",
        "outputId": "af7c7ab4-d876-4dfb-acfe-78078e6596c2"
      },
      "execution_count": null,
      "outputs": [
        {
          "output_type": "execute_result",
          "data": {
            "text/plain": [
              "<tf.Tensor: shape=(), dtype=int64, numpy=49>"
            ]
          },
          "metadata": {},
          "execution_count": 66
        }
      ]
    },
    {
      "cell_type": "code",
      "source": [
        "# sum:\n",
        "\n",
        "tf.reduce_sum(rand_tensor)"
      ],
      "metadata": {
        "colab": {
          "base_uri": "https://localhost:8080/"
        },
        "id": "CtzrBQcKuiiQ",
        "outputId": "bac8b25e-61f7-4716-c4d9-8d9ed651b260"
      },
      "execution_count": null,
      "outputs": [
        {
          "output_type": "execute_result",
          "data": {
            "text/plain": [
              "<tf.Tensor: shape=(), dtype=int64, numpy=2483>"
            ]
          },
          "metadata": {},
          "execution_count": 67
        }
      ]
    },
    {
      "cell_type": "code",
      "source": [
        "# varinace\n",
        "import tensorflow_probability as tfp\n",
        "\n",
        "tfp.stats.variance(rand_tensor)"
      ],
      "metadata": {
        "colab": {
          "base_uri": "https://localhost:8080/"
        },
        "id": "uB04hhwFunYQ",
        "outputId": "84f608a9-59fa-4530-844c-65c3e898d698"
      },
      "execution_count": null,
      "outputs": [
        {
          "output_type": "execute_result",
          "data": {
            "text/plain": [
              "<tf.Tensor: shape=(), dtype=int64, numpy=937>"
            ]
          },
          "metadata": {},
          "execution_count": 70
        }
      ]
    },
    {
      "cell_type": "code",
      "source": [
        "# STD:\n",
        "# standard deviance is in math module and it takes floar32 as input, so we have to cast the dtype:\n",
        "tf.math.reduce_std(tf.cast(rand_tensor, dtype = tf.float32))"
      ],
      "metadata": {
        "colab": {
          "base_uri": "https://localhost:8080/"
        },
        "id": "V7vK8YgWu_Eb",
        "outputId": "f7e080fb-bfbe-44d5-ee07-d2aa1c45c64d"
      },
      "execution_count": null,
      "outputs": [
        {
          "output_type": "execute_result",
          "data": {
            "text/plain": [
              "<tf.Tensor: shape=(), dtype=float32, numpy=30.618694>"
            ]
          },
          "metadata": {},
          "execution_count": 72
        }
      ]
    },
    {
      "cell_type": "markdown",
      "source": [
        "* Getting postional Arguments:"
      ],
      "metadata": {
        "id": "CcWBjrk-v_s_"
      }
    },
    {
      "cell_type": "code",
      "source": [
        "# Create a new tensor:\n",
        "tf.random.set_seed(42)\n",
        "A = tf.random.uniform(shape = [50])\n",
        "A"
      ],
      "metadata": {
        "colab": {
          "base_uri": "https://localhost:8080/"
        },
        "id": "tvCODLQYwkCr",
        "outputId": "4ce82a53-a805-44cc-fb38-1350ee6bf720"
      },
      "execution_count": null,
      "outputs": [
        {
          "output_type": "execute_result",
          "data": {
            "text/plain": [
              "<tf.Tensor: shape=(50,), dtype=float32, numpy=\n",
              "array([0.6645621 , 0.44100678, 0.3528825 , 0.46448255, 0.03366041,\n",
              "       0.68467236, 0.74011743, 0.8724445 , 0.22632635, 0.22319686,\n",
              "       0.3103881 , 0.7223358 , 0.13318717, 0.5480639 , 0.5746088 ,\n",
              "       0.8996835 , 0.00946367, 0.5212307 , 0.6345445 , 0.1993283 ,\n",
              "       0.72942245, 0.54583454, 0.10756552, 0.6767061 , 0.6602763 ,\n",
              "       0.33695042, 0.60141766, 0.21062577, 0.8527372 , 0.44062173,\n",
              "       0.9485276 , 0.23752594, 0.81179297, 0.5263394 , 0.494308  ,\n",
              "       0.21612847, 0.8457197 , 0.8718841 , 0.3083862 , 0.6868038 ,\n",
              "       0.23764038, 0.7817228 , 0.9671384 , 0.06870162, 0.79873943,\n",
              "       0.66028714, 0.5871513 , 0.16461694, 0.7381023 , 0.32054043],\n",
              "      dtype=float32)>"
            ]
          },
          "metadata": {},
          "execution_count": 73
        }
      ]
    },
    {
      "cell_type": "code",
      "source": [
        "# Find the postional maximum:\n",
        "\n",
        "tf.argmax(A)"
      ],
      "metadata": {
        "colab": {
          "base_uri": "https://localhost:8080/"
        },
        "id": "j22h0LZRxdfk",
        "outputId": "9adebf10-72ea-489c-a6d4-3a8717fea812"
      },
      "execution_count": null,
      "outputs": [
        {
          "output_type": "execute_result",
          "data": {
            "text/plain": [
              "<tf.Tensor: shape=(), dtype=int64, numpy=42>"
            ]
          },
          "metadata": {},
          "execution_count": 74
        }
      ]
    },
    {
      "cell_type": "code",
      "source": [
        "# Index on our larggest value of the tensor:\n",
        "\n",
        "A[tf.argmax(A)] == tf.reduce_max(A)"
      ],
      "metadata": {
        "colab": {
          "base_uri": "https://localhost:8080/"
        },
        "id": "iTgVXQz8xmC8",
        "outputId": "b442bd53-3516-4ae8-f181-14a1cb05fc27"
      },
      "execution_count": null,
      "outputs": [
        {
          "output_type": "execute_result",
          "data": {
            "text/plain": [
              "<tf.Tensor: shape=(), dtype=bool, numpy=True>"
            ]
          },
          "metadata": {},
          "execution_count": 78
        }
      ]
    },
    {
      "cell_type": "code",
      "source": [
        "# Find the postional minimum:\n",
        "\n",
        "tf.argmin(A)"
      ],
      "metadata": {
        "colab": {
          "base_uri": "https://localhost:8080/"
        },
        "id": "PzeEQylJxxMQ",
        "outputId": "789ecd28-0387-45db-d5eb-6b21344233e0"
      },
      "execution_count": null,
      "outputs": [
        {
          "output_type": "execute_result",
          "data": {
            "text/plain": [
              "<tf.Tensor: shape=(), dtype=int64, numpy=16>"
            ]
          },
          "metadata": {},
          "execution_count": 76
        }
      ]
    },
    {
      "cell_type": "code",
      "source": [
        "# Indexing the minimum value:\n",
        "\n",
        "A[tf.argmin(A)] == tf.reduce_min(A)"
      ],
      "metadata": {
        "colab": {
          "base_uri": "https://localhost:8080/"
        },
        "id": "iBDa9A0wx5Do",
        "outputId": "f5f46463-6dcf-4c3b-9064-cea78790533f"
      },
      "execution_count": null,
      "outputs": [
        {
          "output_type": "execute_result",
          "data": {
            "text/plain": [
              "<tf.Tensor: shape=(), dtype=bool, numpy=True>"
            ]
          },
          "metadata": {},
          "execution_count": 80
        }
      ]
    },
    {
      "cell_type": "markdown",
      "source": [
        "### Squeezing the tensor(removing all the single dimensions):"
      ],
      "metadata": {
        "id": "Mx8lpDVnyBtY"
      }
    },
    {
      "cell_type": "code",
      "source": [
        "# Lets create the tensor:\n",
        "\n",
        "x = tf.constant(tf.random.uniform(shape = [50]), shape= (1,1,1,1,50))\n",
        "x"
      ],
      "metadata": {
        "colab": {
          "base_uri": "https://localhost:8080/"
        },
        "id": "1pWpXfBB9fRF",
        "outputId": "7412b128-142c-48b7-e628-ecffc7bb4b2f"
      },
      "execution_count": null,
      "outputs": [
        {
          "output_type": "execute_result",
          "data": {
            "text/plain": [
              "<tf.Tensor: shape=(1, 1, 1, 1, 50), dtype=float32, numpy=\n",
              "array([[[[[0.7402308 , 0.33938193, 0.5692506 , 0.44811392, 0.29285502,\n",
              "           0.4260056 , 0.62890387, 0.691061  , 0.30925727, 0.89236605,\n",
              "           0.66396606, 0.30541587, 0.8724164 , 0.1025728 , 0.56819403,\n",
              "           0.25427842, 0.7253866 , 0.4770788 , 0.46289814, 0.88944995,\n",
              "           0.6792555 , 0.09752727, 0.01609659, 0.4876021 , 0.5832968 ,\n",
              "           0.41212583, 0.731905  , 0.93418944, 0.5298122 , 0.9664817 ,\n",
              "           0.88391197, 0.10578597, 0.44439578, 0.7851516 , 0.47332513,\n",
              "           0.89893615, 0.04290593, 0.8717004 , 0.6068529 , 0.12963045,\n",
              "           0.4527359 , 0.24573493, 0.34777248, 0.582147  , 0.82298195,\n",
              "           0.82862926, 0.877372  , 0.5319803 , 0.03594303, 0.03986669]]]]],\n",
              "      dtype=float32)>"
            ]
          },
          "metadata": {},
          "execution_count": 89
        }
      ]
    },
    {
      "cell_type": "code",
      "source": [
        "# Get the attributes:\n",
        "\n",
        "get_attributes(x)"
      ],
      "metadata": {
        "colab": {
          "base_uri": "https://localhost:8080/"
        },
        "id": "ubRQa0RM92Rw",
        "outputId": "3db93ca5-f9ee-4135-cdb8-30d4b35d2274"
      },
      "execution_count": null,
      "outputs": [
        {
          "output_type": "stream",
          "name": "stdout",
          "text": [
            "Datatype of every elements : <dtype: 'float32'>\n",
            "Number of dimensions : 5\n",
            "Shape of the tensor : (1, 1, 1, 1, 50)\n",
            "Number of elements in the tensor : 50\n"
          ]
        }
      ]
    },
    {
      "cell_type": "code",
      "source": [
        "# Squeezing:\n",
        "# squeeze removes all the Dimensional of 1 from the shape of the tensor\n",
        "x_squeeze  = tf.squeeze(x)\n",
        "\n",
        "x_squeeze, get_attributes(x_squeeze)"
      ],
      "metadata": {
        "colab": {
          "base_uri": "https://localhost:8080/"
        },
        "id": "qoIXckZ4-ywh",
        "outputId": "0532d19d-7019-4b3f-db34-969b83fb6203"
      },
      "execution_count": null,
      "outputs": [
        {
          "output_type": "stream",
          "name": "stdout",
          "text": [
            "Datatype of every elements : <dtype: 'float32'>\n",
            "Number of dimensions : 1\n",
            "Shape of the tensor : (50,)\n",
            "Number of elements in the tensor : 50\n"
          ]
        },
        {
          "output_type": "execute_result",
          "data": {
            "text/plain": [
              "(<tf.Tensor: shape=(50,), dtype=float32, numpy=\n",
              " array([0.7402308 , 0.33938193, 0.5692506 , 0.44811392, 0.29285502,\n",
              "        0.4260056 , 0.62890387, 0.691061  , 0.30925727, 0.89236605,\n",
              "        0.66396606, 0.30541587, 0.8724164 , 0.1025728 , 0.56819403,\n",
              "        0.25427842, 0.7253866 , 0.4770788 , 0.46289814, 0.88944995,\n",
              "        0.6792555 , 0.09752727, 0.01609659, 0.4876021 , 0.5832968 ,\n",
              "        0.41212583, 0.731905  , 0.93418944, 0.5298122 , 0.9664817 ,\n",
              "        0.88391197, 0.10578597, 0.44439578, 0.7851516 , 0.47332513,\n",
              "        0.89893615, 0.04290593, 0.8717004 , 0.6068529 , 0.12963045,\n",
              "        0.4527359 , 0.24573493, 0.34777248, 0.582147  , 0.82298195,\n",
              "        0.82862926, 0.877372  , 0.5319803 , 0.03594303, 0.03986669],\n",
              "       dtype=float32)>,\n",
              " None)"
            ]
          },
          "metadata": {},
          "execution_count": 92
        }
      ]
    },
    {
      "cell_type": "markdown",
      "source": [
        "### One-hot encoding the tensors:\n",
        "\n",
        "* It is a way of numrical encode the categorical data.\n"
      ],
      "metadata": {
        "id": "TaOw0ULs_Jwe"
      }
    },
    {
      "cell_type": "code",
      "source": [
        "# Create a list of indices:\n",
        "\n",
        "some_list = [0,1,2,3,4]\n",
        "tf.one_hot(some_list, depth = len(some_list))"
      ],
      "metadata": {
        "colab": {
          "base_uri": "https://localhost:8080/"
        },
        "id": "XnQ0kDEd_h67",
        "outputId": "060a4882-40d0-47a5-de98-32b30fc3ce37"
      },
      "execution_count": null,
      "outputs": [
        {
          "output_type": "execute_result",
          "data": {
            "text/plain": [
              "<tf.Tensor: shape=(5, 5), dtype=float32, numpy=\n",
              "array([[1., 0., 0., 0., 0.],\n",
              "       [0., 1., 0., 0., 0.],\n",
              "       [0., 0., 1., 0., 0.],\n",
              "       [0., 0., 0., 1., 0.],\n",
              "       [0., 0., 0., 0., 1.]], dtype=float32)>"
            ]
          },
          "metadata": {},
          "execution_count": 97
        }
      ]
    },
    {
      "cell_type": "markdown",
      "source": [
        "### Squaring, log, square root:"
      ],
      "metadata": {
        "id": "wANKlOa-FN_E"
      }
    },
    {
      "cell_type": "code",
      "source": [
        "# Squaring a tensor:\n",
        "\n",
        "y = tf.constant([10,20,30,40,50])\n",
        "tf.square(y)"
      ],
      "metadata": {
        "colab": {
          "base_uri": "https://localhost:8080/"
        },
        "id": "o5VB_cV5GHqY",
        "outputId": "6fdd4342-06bd-4472-d10a-92d026694f90"
      },
      "execution_count": null,
      "outputs": [
        {
          "output_type": "execute_result",
          "data": {
            "text/plain": [
              "<tf.Tensor: shape=(5,), dtype=int32, numpy=array([ 100,  400,  900, 1600, 2500], dtype=int32)>"
            ]
          },
          "metadata": {},
          "execution_count": 103
        }
      ]
    },
    {
      "cell_type": "code",
      "source": [
        "# Sqrt:\n",
        "\n",
        "tf.sqrt(tf.cast(y, dtype = tf.float32))"
      ],
      "metadata": {
        "colab": {
          "base_uri": "https://localhost:8080/"
        },
        "id": "tbIoVTQAGLO-",
        "outputId": "390e035f-b748-4e97-d6a4-619723ce5c57"
      },
      "execution_count": null,
      "outputs": [
        {
          "output_type": "execute_result",
          "data": {
            "text/plain": [
              "<tf.Tensor: shape=(5,), dtype=float32, numpy=\n",
              "array([3.1622777, 4.472136 , 5.477226 , 6.3245554, 7.071068 ],\n",
              "      dtype=float32)>"
            ]
          },
          "metadata": {},
          "execution_count": 105
        }
      ]
    },
    {
      "cell_type": "code",
      "source": [
        "# Log:\n",
        "\n",
        "tf.math.log(tf.cast(y, dtype = tf.float32))"
      ],
      "metadata": {
        "colab": {
          "base_uri": "https://localhost:8080/"
        },
        "id": "jZqPCTgsGmtT",
        "outputId": "5cd33c1b-d9a8-4ee5-ec17-e468da789452"
      },
      "execution_count": null,
      "outputs": [
        {
          "output_type": "execute_result",
          "data": {
            "text/plain": [
              "<tf.Tensor: shape=(5,), dtype=float32, numpy=\n",
              "array([2.3025851, 2.9957323, 3.4011974, 3.6888795, 3.912023 ],\n",
              "      dtype=float32)>"
            ]
          },
          "metadata": {},
          "execution_count": 107
        }
      ]
    },
    {
      "cell_type": "markdown",
      "source": [
        "### Tensor and NumPy:"
      ],
      "metadata": {
        "id": "GVoHkW6RGv8C"
      }
    },
    {
      "cell_type": "code",
      "source": [
        "# Create a tensor directly from numpy array:\n",
        "\n",
        "N = tf.constant(np.array([1,2,3,4]))\n",
        "N"
      ],
      "metadata": {
        "colab": {
          "base_uri": "https://localhost:8080/"
        },
        "id": "Y5z2OzbEI9VJ",
        "outputId": "60678908-8408-420d-fcaf-b03be323064c"
      },
      "execution_count": null,
      "outputs": [
        {
          "output_type": "execute_result",
          "data": {
            "text/plain": [
              "<tf.Tensor: shape=(4,), dtype=int64, numpy=array([1, 2, 3, 4])>"
            ]
          },
          "metadata": {},
          "execution_count": 109
        }
      ]
    },
    {
      "cell_type": "code",
      "source": [
        "# Convert tensor to numpy array:\n",
        "\n",
        "np.array(N), type(np.array(N))"
      ],
      "metadata": {
        "colab": {
          "base_uri": "https://localhost:8080/"
        },
        "id": "X86ef0mOJNvp",
        "outputId": "1d9aa3a5-6511-46c0-b303-eac4f8b1985d"
      },
      "execution_count": null,
      "outputs": [
        {
          "output_type": "execute_result",
          "data": {
            "text/plain": [
              "(array([1, 2, 3, 4]), numpy.ndarray)"
            ]
          },
          "metadata": {},
          "execution_count": 110
        }
      ]
    },
    {
      "cell_type": "code",
      "source": [],
      "metadata": {
        "id": "1SgLMYZxJbf3"
      },
      "execution_count": null,
      "outputs": []
    }
  ],
  "metadata": {
    "colab": {
      "provenance": [],
      "authorship_tag": "ABX9TyMUFzoGLIpXFy0J2RZfD8JA",
      "include_colab_link": true
    },
    "kernelspec": {
      "display_name": "Python 3",
      "name": "python3"
    },
    "language_info": {
      "name": "python"
    }
  },
  "nbformat": 4,
  "nbformat_minor": 0
}